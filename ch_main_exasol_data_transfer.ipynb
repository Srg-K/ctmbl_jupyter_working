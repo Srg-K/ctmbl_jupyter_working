{
 "cells": [
  {
   "cell_type": "code",
   "execution_count": 1,
   "metadata": {},
   "outputs": [],
   "source": [
    "import datetime\n",
    "import logging\n",
    "import pandas as pd\n",
    "import numpy as np\n",
    "import json\n",
    "from tqdm import tqdm\n",
    "\n",
    "from citymobil_python_clickhouse_wrapper import ClickHouseWrapper\n",
    "import pyexasol"
   ]
  },
  {
   "cell_type": "code",
   "execution_count": 2,
   "metadata": {},
   "outputs": [],
   "source": [
    "cred = pd.read_json(r'/Users/skostuchik/crd_exa.json')\n",
    "user = cred.login.squeeze()\n",
    "password = cred.password_exa.squeeze()"
   ]
  },
  {
   "cell_type": "code",
   "execution_count": 3,
   "metadata": {},
   "outputs": [],
   "source": [
    "# initialize ch\n",
    "logger = logging.getLogger()\n",
    "clickhouse = ClickHouseWrapper(\n",
    "    logger,\n",
    "    url=\"http://chmain-vip.local.city-dt.ru:8123\",\n",
    "    user=user,\n",
    "    password=password,\n",
    "    create_and_assign_event_loop=False,  # for django threads with no event loop\n",
    "    allow_nested_event_loops=True  # for jupyter threads with existed event loop\n",
    ")"
   ]
  },
  {
   "cell_type": "code",
   "execution_count": 4,
   "metadata": {},
   "outputs": [],
   "source": [
    "# initialize exasol\n",
    "C = pyexasol.connect(dsn='ex1..3.city-srv.ru:8563', user=user, password=password, fetch_dict=True)"
   ]
  },
  {
   "cell_type": "code",
   "execution_count": 5,
   "metadata": {},
   "outputs": [
    {
     "name": "stderr",
     "output_type": "stream",
     "text": [
      "100%|██████████| 28/28 [02:38<00:00,  5.66s/it]\n"
     ]
    }
   ],
   "source": [
    "#for i in tqdm(range(28)):\n",
    "    query = f'''\n",
    "              select h3,\n",
    "                     DAYOFWEEK(date) wd,\n",
    "                     case when extract(minute from dt) >= 30\n",
    "                         then date_trunc('hour', dt) + interval 30 minute\n",
    "                         else date_trunc('hour', dt) end dt_slot,\n",
    "                     max(open_drivers_corrected) as drivers,\n",
    "                     max(sum_uViews)             as uViews\n",
    "              from surge_statistic.surge_20_data s\n",
    "                       join exasol_mart.tariff t on toUInt64(s.tariff_id) = toUInt64(t.tariff_rk)\n",
    "              where 1 = 1\n",
    "              and date = toDate('2021-09-12') - interval '{i}' day\n",
    "              and t.locality_rk = 22534\n",
    "              and t.tariff_group_rk = 2\n",
    "        group by h3, wd, dt_slot\n",
    "    '''\n",
    "\n",
    "    df = clickhouse.fetch(query)\n",
    "    df = df[['h3', 'dt_slot', 'wd', 'drivers', 'uViews']]\n",
    "    \n",
    "    C.import_from_pandas(df, ('SANDBOX', 'd2v_voronezh_temp'))"
   ]
  },
  {
   "cell_type": "markdown",
   "metadata": {},
   "source": [
    "***"
   ]
  },
  {
   "cell_type": "code",
   "execution_count": 6,
   "metadata": {},
   "outputs": [],
   "source": [
    "v2_q = '''\n",
    "select gch.CAMPAIGN_ID, gch.CAMPAIGN_NAME, week_day,\n",
    "    concat(\n",
    "       case when FROM_HOUR <= 9 then concat('0', FROM_HOUR) else FROM_HOUR end, ':',\n",
    "       case when FROM_MINUTE <= 9 then concat('0', FROM_MINUTE) else FROM_MINUTE end) time_slot, gch.POLYGONS\n",
    "from replica.geominimal_change_history gch\n",
    "where gch.ID_LOCALITY = 22534\n",
    "    and (gch.TIME_END is null or to_date(gch.TIME_END) > current_date)\n",
    "    and gch.ACTIVE = 1\n",
    "'''"
   ]
  },
  {
   "cell_type": "code",
   "execution_count": 7,
   "metadata": {},
   "outputs": [],
   "source": [
    "voronezh_gch = pd.DataFrame(C.execute(v2_q).fetchall())"
   ]
  },
  {
   "cell_type": "code",
   "execution_count": 9,
   "metadata": {},
   "outputs": [],
   "source": [
    "voronezh_gch = voronezh_gch.dropna()"
   ]
  },
  {
   "cell_type": "code",
   "execution_count": 10,
   "metadata": {},
   "outputs": [],
   "source": [
    "#voronezh_gch.WEEK_DAY = voronezh_gch.WEEK_DAY.astype(int)"
   ]
  },
  {
   "cell_type": "code",
   "execution_count": 11,
   "metadata": {},
   "outputs": [],
   "source": [
    "df = pd.DataFrame(columns = ['WEEK_DAY','TIME_SLOT','CAMPAIGN_ID','CAMPAIGN_NAME','polygon_id',\n",
    "                             'polygon_name','price','coords'])"
   ]
  },
  {
   "cell_type": "code",
   "execution_count": 12,
   "metadata": {
    "scrolled": true
   },
   "outputs": [],
   "source": [
    "for index, row  in voronezh_gch.iterrows():\n",
    "    for i in range(len(json.loads(row.POLYGONS))):\n",
    "        df = df.append({'WEEK_DAY' : row.WEEK_DAY, 'TIME_SLOT' : row.TIME_SLOT,\n",
    "                        'CAMPAIGN_ID' : row.CAMPAIGN_ID, 'CAMPAIGN_NAME' : row.CAMPAIGN_NAME,\n",
    "                        'polygon_id' : json.loads(row.POLYGONS)[i].get('id'),\n",
    "                        'polygon_name' : json.loads(row.POLYGONS)[i].get('name'),\n",
    "                        'price' : json.loads(row.POLYGONS)[i].get('price'),\n",
    "                        'coords' : str(json.loads(row.POLYGONS)[i].get('coords'))}, ignore_index=True)"
   ]
  },
  {
   "cell_type": "code",
   "execution_count": 13,
   "metadata": {},
   "outputs": [],
   "source": [
    "df.coords = df.coords.apply(lambda x: x.replace(\"'\",\"\"))"
   ]
  },
  {
   "cell_type": "code",
   "execution_count": 14,
   "metadata": {},
   "outputs": [
    {
     "data": {
      "text/html": [
       "<div>\n",
       "<style scoped>\n",
       "    .dataframe tbody tr th:only-of-type {\n",
       "        vertical-align: middle;\n",
       "    }\n",
       "\n",
       "    .dataframe tbody tr th {\n",
       "        vertical-align: top;\n",
       "    }\n",
       "\n",
       "    .dataframe thead th {\n",
       "        text-align: right;\n",
       "    }\n",
       "</style>\n",
       "<table border=\"1\" class=\"dataframe\">\n",
       "  <thead>\n",
       "    <tr style=\"text-align: right;\">\n",
       "      <th></th>\n",
       "      <th>WEEK_DAY</th>\n",
       "      <th>TIME_SLOT</th>\n",
       "      <th>CAMPAIGN_ID</th>\n",
       "      <th>CAMPAIGN_NAME</th>\n",
       "      <th>polygon_id</th>\n",
       "      <th>polygon_name</th>\n",
       "      <th>price</th>\n",
       "      <th>coords</th>\n",
       "    </tr>\n",
       "  </thead>\n",
       "  <tbody>\n",
       "    <tr>\n",
       "      <th>0</th>\n",
       "      <td>1</td>\n",
       "      <td>08:30</td>\n",
       "      <td>2611</td>\n",
       "      <td>Воронеж Утро</td>\n",
       "      <td>3014</td>\n",
       "      <td>Воронеж Северо-Запад</td>\n",
       "      <td>280</td>\n",
       "      <td>[[51.712457652293, 39.162861881594], [51.70667...</td>\n",
       "    </tr>\n",
       "    <tr>\n",
       "      <th>1</th>\n",
       "      <td>1</td>\n",
       "      <td>08:30</td>\n",
       "      <td>2611</td>\n",
       "      <td>Воронеж Утро</td>\n",
       "      <td>4302</td>\n",
       "      <td>Воронеж Север Ю</td>\n",
       "      <td>280</td>\n",
       "      <td>[[51.698016998035, 39.182511280174], [51.69912...</td>\n",
       "    </tr>\n",
       "    <tr>\n",
       "      <th>2</th>\n",
       "      <td>1</td>\n",
       "      <td>08:30</td>\n",
       "      <td>2611</td>\n",
       "      <td>Воронеж Утро</td>\n",
       "      <td>3002</td>\n",
       "      <td>Воронеж Левый берег ЖД район С</td>\n",
       "      <td>320</td>\n",
       "      <td>[[51.698395700951, 39.273198149475], [51.69527...</td>\n",
       "    </tr>\n",
       "    <tr>\n",
       "      <th>3</th>\n",
       "      <td>1</td>\n",
       "      <td>08:30</td>\n",
       "      <td>2611</td>\n",
       "      <td>Воронеж Утро</td>\n",
       "      <td>6403</td>\n",
       "      <td>Воронеж Левый берег ЖД район Ю</td>\n",
       "      <td>180</td>\n",
       "      <td>[[51.686697695883, 39.25868202485], [51.687638...</td>\n",
       "    </tr>\n",
       "    <tr>\n",
       "      <th>4</th>\n",
       "      <td>1</td>\n",
       "      <td>08:30</td>\n",
       "      <td>2611</td>\n",
       "      <td>Воронеж Утро</td>\n",
       "      <td>7319</td>\n",
       "      <td>Воронеж Юго-Запад В</td>\n",
       "      <td>180</td>\n",
       "      <td>[[51.649779152197, 39.165467114521], [51.65097...</td>\n",
       "    </tr>\n",
       "    <tr>\n",
       "      <th>...</th>\n",
       "      <td>...</td>\n",
       "      <td>...</td>\n",
       "      <td>...</td>\n",
       "      <td>...</td>\n",
       "      <td>...</td>\n",
       "      <td>...</td>\n",
       "      <td>...</td>\n",
       "      <td>...</td>\n",
       "    </tr>\n",
       "    <tr>\n",
       "      <th>365</th>\n",
       "      <td>5</td>\n",
       "      <td>21:00</td>\n",
       "      <td>2659</td>\n",
       "      <td>Воронеж поздний вечер</td>\n",
       "      <td>3006</td>\n",
       "      <td>Левый берег Вогрэс-Чернавский</td>\n",
       "      <td>250</td>\n",
       "      <td>[[51.636942447984, 39.23075479483], [51.640467...</td>\n",
       "    </tr>\n",
       "    <tr>\n",
       "      <th>366</th>\n",
       "      <td>5</td>\n",
       "      <td>21:00</td>\n",
       "      <td>2659</td>\n",
       "      <td>Воронеж поздний вечер</td>\n",
       "      <td>3010</td>\n",
       "      <td>центр малый полигон</td>\n",
       "      <td>250</td>\n",
       "      <td>[[51.683955843786, 39.183265703861], [51.69542...</td>\n",
       "    </tr>\n",
       "    <tr>\n",
       "      <th>367</th>\n",
       "      <td>5</td>\n",
       "      <td>21:00</td>\n",
       "      <td>2659</td>\n",
       "      <td>Воронеж поздний вечер</td>\n",
       "      <td>3018</td>\n",
       "      <td>центр большой полигон</td>\n",
       "      <td>250</td>\n",
       "      <td>[[51.649829438075, 39.180566486818], [51.65195...</td>\n",
       "    </tr>\n",
       "    <tr>\n",
       "      <th>368</th>\n",
       "      <td>5</td>\n",
       "      <td>21:00</td>\n",
       "      <td>2659</td>\n",
       "      <td>Воронеж поздний вечер</td>\n",
       "      <td>4302</td>\n",
       "      <td>Север</td>\n",
       "      <td>250</td>\n",
       "      <td>[[51.698016998035, 39.182511280174], [51.69912...</td>\n",
       "    </tr>\n",
       "    <tr>\n",
       "      <th>369</th>\n",
       "      <td>5</td>\n",
       "      <td>21:00</td>\n",
       "      <td>2659</td>\n",
       "      <td>Воронеж поздний вечер</td>\n",
       "      <td>6411</td>\n",
       "      <td>Район Олимпийский</td>\n",
       "      <td>250</td>\n",
       "      <td>[[51.717001204036, 39.19671934051], [51.716454...</td>\n",
       "    </tr>\n",
       "  </tbody>\n",
       "</table>\n",
       "<p>370 rows × 8 columns</p>\n",
       "</div>"
      ],
      "text/plain": [
       "    WEEK_DAY TIME_SLOT CAMPAIGN_ID          CAMPAIGN_NAME polygon_id  \\\n",
       "0          1     08:30        2611           Воронеж Утро       3014   \n",
       "1          1     08:30        2611           Воронеж Утро       4302   \n",
       "2          1     08:30        2611           Воронеж Утро       3002   \n",
       "3          1     08:30        2611           Воронеж Утро       6403   \n",
       "4          1     08:30        2611           Воронеж Утро       7319   \n",
       "..       ...       ...         ...                    ...        ...   \n",
       "365        5     21:00        2659  Воронеж поздний вечер       3006   \n",
       "366        5     21:00        2659  Воронеж поздний вечер       3010   \n",
       "367        5     21:00        2659  Воронеж поздний вечер       3018   \n",
       "368        5     21:00        2659  Воронеж поздний вечер       4302   \n",
       "369        5     21:00        2659  Воронеж поздний вечер       6411   \n",
       "\n",
       "                       polygon_name price  \\\n",
       "0              Воронеж Северо-Запад   280   \n",
       "1                   Воронеж Север Ю   280   \n",
       "2    Воронеж Левый берег ЖД район С   320   \n",
       "3    Воронеж Левый берег ЖД район Ю   180   \n",
       "4               Воронеж Юго-Запад В   180   \n",
       "..                              ...   ...   \n",
       "365   Левый берег Вогрэс-Чернавский   250   \n",
       "366             центр малый полигон   250   \n",
       "367           центр большой полигон   250   \n",
       "368                           Север   250   \n",
       "369               Район Олимпийский   250   \n",
       "\n",
       "                                                coords  \n",
       "0    [[51.712457652293, 39.162861881594], [51.70667...  \n",
       "1    [[51.698016998035, 39.182511280174], [51.69912...  \n",
       "2    [[51.698395700951, 39.273198149475], [51.69527...  \n",
       "3    [[51.686697695883, 39.25868202485], [51.687638...  \n",
       "4    [[51.649779152197, 39.165467114521], [51.65097...  \n",
       "..                                                 ...  \n",
       "365  [[51.636942447984, 39.23075479483], [51.640467...  \n",
       "366  [[51.683955843786, 39.183265703861], [51.69542...  \n",
       "367  [[51.649829438075, 39.180566486818], [51.65195...  \n",
       "368  [[51.698016998035, 39.182511280174], [51.69912...  \n",
       "369  [[51.717001204036, 39.19671934051], [51.716454...  \n",
       "\n",
       "[370 rows x 8 columns]"
      ]
     },
     "execution_count": 14,
     "metadata": {},
     "output_type": "execute_result"
    }
   ],
   "source": [
    "df"
   ]
  },
  {
   "cell_type": "code",
   "execution_count": 15,
   "metadata": {},
   "outputs": [],
   "source": [
    "df['ID'] = df.index + 1"
   ]
  },
  {
   "cell_type": "code",
   "execution_count": 16,
   "metadata": {},
   "outputs": [],
   "source": [
    "df = df[['ID','WEEK_DAY', 'TIME_SLOT', 'CAMPAIGN_ID', 'CAMPAIGN_NAME', 'polygon_id',\n",
    "         'polygon_name', 'price', 'coords']]"
   ]
  },
  {
   "cell_type": "code",
   "execution_count": 17,
   "metadata": {},
   "outputs": [],
   "source": [
    "C.import_from_pandas(df, ('SANDBOX', 'd2v_voronezh_gch')\n",
    "                     #, import_params = {'columns':list(score.columns)}\n",
    "                    )"
   ]
  }
 ],
 "metadata": {
  "kernelspec": {
   "display_name": "Python 3",
   "language": "python",
   "name": "python3"
  },
  "language_info": {
   "codemirror_mode": {
    "name": "ipython",
    "version": 3
   },
   "file_extension": ".py",
   "mimetype": "text/x-python",
   "name": "python",
   "nbconvert_exporter": "python",
   "pygments_lexer": "ipython3",
   "version": "3.8.5"
  }
 },
 "nbformat": 4,
 "nbformat_minor": 4
}
