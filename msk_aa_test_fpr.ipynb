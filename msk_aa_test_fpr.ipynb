{
 "cells": [
  {
   "cell_type": "code",
   "execution_count": 2,
   "metadata": {},
   "outputs": [],
   "source": [
    "import pandas as pd\n",
    "import numpy as np\n",
    "import re\n",
    "import pyexasol\n",
    "from random import randrange\n",
    "import matplotlib.pyplot as plt\n",
    "import seaborn as sns\n",
    "import statsmodels.api as sm\n",
    "from statsmodels.stats.power import tt_ind_solve_power, GofChisquarePower\n",
    "from statsmodels.stats.gof import chisquare_effectsize\n",
    "from statsmodels.sandbox.stats.multicomp import multipletests\n",
    "from scipy.stats import norm, chi2_contingency\n",
    "from statsmodels.stats.proportion import proportions_ztest\n",
    "\n",
    "import logging\n",
    "from tqdm import tqdm"
   ]
  },
  {
   "cell_type": "code",
   "execution_count": 3,
   "metadata": {},
   "outputs": [],
   "source": [
    "cred = pd.read_json(r'/Users/skostuchik/crd_exa.json')\n",
    "user = cred.iloc[0, 0]\n",
    "password = cred.iloc[0, 1]\n",
    "\n",
    "C = pyexasol.connect(dsn='ex1..3.city-srv.ru:8563', user=user, password=password, fetch_dict=True)"
   ]
  },
  {
   "cell_type": "code",
   "execution_count": 4,
   "metadata": {},
   "outputs": [],
   "source": [
    "ar_query = '''\n",
    "with s as (\n",
    "    select *\n",
    "    from REPLICA.FAIRBOT_SUGGESTS_SUCCESS s\n",
    "    where to_date(s.DATE_SUGGEST) between '2021-03-11' and '2021-04-11'\n",
    "        and s.SUGGEST_TYPE = 4)\n",
    "select s.ID_DRIVER DRIVER_RK, to_date(s.DATE_SUGGEST) dt,\n",
    "    case when mod(UDF.CRC32(CONCAT(s.ID_DRIVER, 'fpr_checking')),100) < 50 then 'B' else 'A' end exp_group,\n",
    "    1 suggest,\n",
    "    case when s.\"ACTION\" in (1,-2) then 1 else 0 end accept,\n",
    "    case when s.\"ACTION\" in (-1,-3) then 1 else 0 end \"REJECT\",\n",
    "    case when s.\"ACTION\" in (0,-4,-5) then 1 else 0 end fraud\n",
    "from s\n",
    "join emart.\"ORDER\" oc on oc.ORDER_RK = s.ID_ORDER and oc.LOCALITY_RK = 2\n",
    "'''"
   ]
  },
  {
   "cell_type": "code",
   "execution_count": 5,
   "metadata": {},
   "outputs": [],
   "source": [
    "e_ar = C.execute(ar_query)"
   ]
  },
  {
   "cell_type": "code",
   "execution_count": 6,
   "metadata": {},
   "outputs": [],
   "source": [
    "ar_suggest_data = pd.DataFrame(e_ar.fetchall())"
   ]
  },
  {
   "cell_type": "code",
   "execution_count": 7,
   "metadata": {},
   "outputs": [
    {
     "data": {
      "text/html": [
       "<div>\n",
       "<style scoped>\n",
       "    .dataframe tbody tr th:only-of-type {\n",
       "        vertical-align: middle;\n",
       "    }\n",
       "\n",
       "    .dataframe tbody tr th {\n",
       "        vertical-align: top;\n",
       "    }\n",
       "\n",
       "    .dataframe thead th {\n",
       "        text-align: right;\n",
       "    }\n",
       "</style>\n",
       "<table border=\"1\" class=\"dataframe\">\n",
       "  <thead>\n",
       "    <tr style=\"text-align: right;\">\n",
       "      <th></th>\n",
       "      <th>DRIVER_RK</th>\n",
       "      <th>DT</th>\n",
       "      <th>EXP_GROUP</th>\n",
       "      <th>SUGGEST</th>\n",
       "      <th>ACCEPT</th>\n",
       "      <th>REJECT</th>\n",
       "      <th>FRAUD</th>\n",
       "    </tr>\n",
       "  </thead>\n",
       "  <tbody>\n",
       "    <tr>\n",
       "      <th>0</th>\n",
       "      <td>22903135</td>\n",
       "      <td>2021-03-11</td>\n",
       "      <td>A</td>\n",
       "      <td>1</td>\n",
       "      <td>0</td>\n",
       "      <td>1</td>\n",
       "      <td>0</td>\n",
       "    </tr>\n",
       "    <tr>\n",
       "      <th>1</th>\n",
       "      <td>22688323</td>\n",
       "      <td>2021-03-11</td>\n",
       "      <td>B</td>\n",
       "      <td>1</td>\n",
       "      <td>0</td>\n",
       "      <td>0</td>\n",
       "      <td>1</td>\n",
       "    </tr>\n",
       "    <tr>\n",
       "      <th>2</th>\n",
       "      <td>18035587</td>\n",
       "      <td>2021-03-11</td>\n",
       "      <td>A</td>\n",
       "      <td>1</td>\n",
       "      <td>1</td>\n",
       "      <td>0</td>\n",
       "      <td>0</td>\n",
       "    </tr>\n",
       "    <tr>\n",
       "      <th>3</th>\n",
       "      <td>10956418</td>\n",
       "      <td>2021-03-11</td>\n",
       "      <td>A</td>\n",
       "      <td>1</td>\n",
       "      <td>1</td>\n",
       "      <td>0</td>\n",
       "      <td>0</td>\n",
       "    </tr>\n",
       "    <tr>\n",
       "      <th>4</th>\n",
       "      <td>14026826</td>\n",
       "      <td>2021-03-11</td>\n",
       "      <td>A</td>\n",
       "      <td>1</td>\n",
       "      <td>1</td>\n",
       "      <td>0</td>\n",
       "      <td>0</td>\n",
       "    </tr>\n",
       "  </tbody>\n",
       "</table>\n",
       "</div>"
      ],
      "text/plain": [
       "   DRIVER_RK          DT EXP_GROUP  SUGGEST  ACCEPT  REJECT  FRAUD\n",
       "0   22903135  2021-03-11         A        1       0       1      0\n",
       "1   22688323  2021-03-11         B        1       0       0      1\n",
       "2   18035587  2021-03-11         A        1       1       0      0\n",
       "3   10956418  2021-03-11         A        1       1       0      0\n",
       "4   14026826  2021-03-11         A        1       1       0      0"
      ]
     },
     "execution_count": 7,
     "metadata": {},
     "output_type": "execute_result"
    }
   ],
   "source": [
    "ar_suggest_data.head()"
   ]
  },
  {
   "cell_type": "code",
   "execution_count": 8,
   "metadata": {},
   "outputs": [
    {
     "data": {
      "text/plain": [
       "18280886"
      ]
     },
     "execution_count": 8,
     "metadata": {},
     "output_type": "execute_result"
    }
   ],
   "source": [
    "len(ar_suggest_data)"
   ]
  },
  {
   "cell_type": "markdown",
   "metadata": {},
   "source": [
    "<b>Total</b>"
   ]
  },
  {
   "cell_type": "code",
   "execution_count": null,
   "metadata": {},
   "outputs": [],
   "source": [
    "p_result = {}"
   ]
  },
  {
   "cell_type": "code",
   "execution_count": null,
   "metadata": {},
   "outputs": [],
   "source": [
    "a_s = len(ar_suggest_data[(ar_suggest_data['EXP_GROUP'] == 'A')&(ar_suggest_data['ACCEPT'] > 0)])\n",
    "a_f = len(ar_suggest_data[(ar_suggest_data['EXP_GROUP'] == 'A')&(ar_suggest_data['ACCEPT'] == 0)])\n",
    "b_s = len(ar_suggest_data[(ar_suggest_data['EXP_GROUP'] == 'B')&(ar_suggest_data['ACCEPT'] > 0)])\n",
    "b_f = len(ar_suggest_data[(ar_suggest_data['EXP_GROUP'] == 'B')&(ar_suggest_data['ACCEPT'] == 0)])\n",
    "\n",
    "successes = [a_s, b_s]\n",
    "fails = [a_f,b_f]\n",
    "\n",
    "p_val = chi2_contingency(np.array([fails, successes]))[1]\n",
    "p_result.update({'AR':p_val})"
   ]
  },
  {
   "cell_type": "code",
   "execution_count": null,
   "metadata": {},
   "outputs": [],
   "source": [
    "p_result"
   ]
  },
  {
   "cell_type": "code",
   "execution_count": null,
   "metadata": {},
   "outputs": [],
   "source": [
    "mde_result = {}\n",
    "\n",
    "alpha = 0.01\n",
    "power = 0.9\n",
    "n_bins = 2"
   ]
  },
  {
   "cell_type": "code",
   "execution_count": null,
   "metadata": {},
   "outputs": [],
   "source": [
    "probs0, probs1 = np.array([a_s, a_f]), np.array([b_s, b_f])\n",
    "\n",
    "effect_size = chisquare_effectsize(probs0, probs1, correction=None, cohen=True, axis=0)\n",
    "\n",
    "res = int(GofChisquarePower().solve_power(effect_size=effect_size, alpha=alpha, power=power, n_bins=n_bins))\n",
    "\n",
    "act_nobs_a = len(ar_suggest_data[ar_suggest_data['EXP_GROUP']=='A'])\n",
    "act_nobs_b = len(ar_suggest_data[ar_suggest_data['EXP_GROUP']=='B'])\n",
    "\n",
    "if (act_nobs_a>=res)&(act_nobs_b>=res):\n",
    "    mde_marker_value = 1\n",
    "else:\n",
    "    mde_marker_value = np.nan\n",
    "\n",
    "mde_result.update({'AR':{'needed':res, 'act_a':act_nobs_a, 'act_b':act_nobs_b,\n",
    "                                'mde_ok':mde_marker_value}})"
   ]
  },
  {
   "cell_type": "code",
   "execution_count": null,
   "metadata": {},
   "outputs": [],
   "source": [
    "mde_result"
   ]
  },
  {
   "cell_type": "code",
   "execution_count": null,
   "metadata": {},
   "outputs": [],
   "source": [
    "metrics_values = {}"
   ]
  },
  {
   "cell_type": "code",
   "execution_count": null,
   "metadata": {},
   "outputs": [],
   "source": [
    "a = ar_suggest_data[ar_suggest_data['EXP_GROUP']=='A']['ACCEPT'].sum()/ar_suggest_data[ar_suggest_data['EXP_GROUP']=='A']['SUGGEST'].sum()\n",
    "b = ar_suggest_data[ar_suggest_data['EXP_GROUP']=='B']['ACCEPT'].sum()/ar_suggest_data[ar_suggest_data['EXP_GROUP']=='B']['SUGGEST'].sum()\n",
    "\n",
    "lift = (b-a)/abs(a)\n",
    "\n",
    "a_nobs = ar_suggest_data[ar_suggest_data['EXP_GROUP']=='A']['SUGGEST'].count()\n",
    "b_nobs = ar_suggest_data[ar_suggest_data['EXP_GROUP']=='B']['SUGGEST'].count()\n",
    "nobs_diff_value = (b_nobs-a_nobs)/abs(a_nobs)\n",
    "\n",
    "metrics_values.update({'AR':{'split_a':a, 'split_b':b, 'lift':lift,\n",
    "                             'a_nobs':a_nobs, 'b_nobs':b_nobs, 'nobs_diff':nobs_diff_value}})"
   ]
  },
  {
   "cell_type": "code",
   "execution_count": null,
   "metadata": {},
   "outputs": [],
   "source": [
    "metrics_values"
   ]
  },
  {
   "cell_type": "markdown",
   "metadata": {},
   "source": [
    "# False Positive Rate"
   ]
  },
  {
   "cell_type": "code",
   "execution_count": 20,
   "metadata": {},
   "outputs": [],
   "source": [
    "stat_res_chi = {\n",
    "    'aa': {'pvalue': []},\n",
    "    'fpr': {f'fpr_0.99': .0}\n",
    "}"
   ]
  },
  {
   "cell_type": "code",
   "execution_count": 21,
   "metadata": {},
   "outputs": [],
   "source": [
    "stat_res_z = {\n",
    "    'aa': {'pvalue': []},\n",
    "    'fpr': {f'fpr_0.99': .0}\n",
    "}"
   ]
  },
  {
   "cell_type": "code",
   "execution_count": 22,
   "metadata": {},
   "outputs": [],
   "source": [
    "df_x = ar_suggest_data[ar_suggest_data['EXP_GROUP'] == 'A']\n",
    "df_y = ar_suggest_data[ar_suggest_data['EXP_GROUP'] == 'B']"
   ]
  },
  {
   "cell_type": "code",
   "execution_count": 24,
   "metadata": {},
   "outputs": [
    {
     "name": "stderr",
     "output_type": "stream",
     "text": [
      "100%|██████████| 10000/10000 [1:50:24<00:00,  1.51it/s]\n"
     ]
    }
   ],
   "source": [
    "for sim in tqdm(range(10000)):\n",
    "    x = df_x['ACCEPT'].sample(10000, replace=False)\n",
    "    y = df_y['ACCEPT'].sample(10000, replace=False)\n",
    "\n",
    "    a_s = x.sum()\n",
    "    b_s = y.sum()\n",
    "    a_nobs = x.count()\n",
    "    b_nobs = y.count()\n",
    "    a_f = a_nobs - a_s\n",
    "    b_f = b_nobs - b_s\n",
    "    \n",
    "    successes, fails = [a_s, b_s], [a_f,b_f]\n",
    "    count, nobs = np.array([a_s, b_s]), np.array([a_nobs, b_nobs])\n",
    "\n",
    "    pvalue = chi2_contingency(np.array([fails, successes]))[1]\n",
    "    stat_res_chi['aa']['pvalue'].append(pvalue)\n",
    "    \n",
    "    pval = proportions_ztest(count, nobs)[1]\n",
    "    stat_res_z['aa']['pvalue'].append(pval)"
   ]
  },
  {
   "cell_type": "code",
   "execution_count": 25,
   "metadata": {},
   "outputs": [],
   "source": [
    "def compute_fpr(pvalues: list):\n",
    "    \"\"\"\n",
    "    Доля pvalues, соответствующих условию проверки\n",
    "\n",
    "    Parameters\n",
    "    ----------\n",
    "    pvalues\n",
    "\n",
    "    Returns\n",
    "    -------\n",
    "\n",
    "    \"\"\"\n",
    "    try:\n",
    "        return float(sum(np.array(pvalues) <= 1 - 0.99) / 10000)\n",
    "    except ValueError as e:\n",
    "        logging.error(e)\n",
    "        return None"
   ]
  },
  {
   "cell_type": "code",
   "execution_count": 26,
   "metadata": {},
   "outputs": [],
   "source": [
    "stat_res_chi['fpr']['fpr_0.99'] = compute_fpr(pvalues=stat_res_chi['aa']['pvalue'])\n",
    "stat_res_z['fpr']['fpr_0.99'] = compute_fpr(pvalues=stat_res_z['aa']['pvalue'])"
   ]
  },
  {
   "cell_type": "code",
   "execution_count": 27,
   "metadata": {},
   "outputs": [
    {
     "data": {
      "text/plain": [
       "{'fpr_0.99': 0.0096}"
      ]
     },
     "execution_count": 27,
     "metadata": {},
     "output_type": "execute_result"
    }
   ],
   "source": [
    "stat_res_chi['fpr']"
   ]
  },
  {
   "cell_type": "code",
   "execution_count": 31,
   "metadata": {},
   "outputs": [
    {
     "data": {
      "image/png": "[encoded data removed]",
      "text/plain": [
       "<Figure size 1152x432 with 1 Axes>"
      ]
     },
     "metadata": {
      "needs_background": "light"
     },
     "output_type": "display_data"
    }
   ],
   "source": [
    "fpr_data = pd.DataFrame(stat_res_chi['aa']['pvalue'],columns=['pvalue'])\n",
    "\n",
    "x1 = fpr_data[fpr_data['pvalue'] <= 0.01]\n",
    "x2 = fpr_data[fpr_data['pvalue'] > 0.01]\n",
    "\n",
    "plt.figure(figsize=(16,6))\n",
    "plt.hist(x1, bins=10, color='r', label='False Positive')\n",
    "plt.hist(x2, bins=10, color='b', label='True Negative')\n",
    "plt.gca().set(title='False Positive Rate (Chi Square)', ylabel='Frequency')\n",
    "plt.legend();"
   ]
  },
  {
   "cell_type": "code",
   "execution_count": 28,
   "metadata": {},
   "outputs": [
    {
     "data": {
      "text/plain": [
       "{'fpr_0.99': 0.0104}"
      ]
     },
     "execution_count": 28,
     "metadata": {},
     "output_type": "execute_result"
    }
   ],
   "source": [
    "stat_res_z['fpr']"
   ]
  },
  {
   "cell_type": "code",
   "execution_count": 29,
   "metadata": {},
   "outputs": [
    {
     "data": {
      "image/png": "[encoded data removed]",
      "text/plain": [
       "<Figure size 1152x432 with 1 Axes>"
      ]
     },
     "metadata": {
      "needs_background": "light"
     },
     "output_type": "display_data"
    }
   ],
   "source": [
    "fpr_data = pd.DataFrame(stat_res_z['aa']['pvalue'],columns=['pvalue'])\n",
    "\n",
    "x1 = fpr_data[fpr_data['pvalue'] <= 0.01]\n",
    "x2 = fpr_data[fpr_data['pvalue'] > 0.01]\n",
    "\n",
    "plt.figure(figsize=(16,6))\n",
    "plt.hist(x1, bins=10, color='r', label='False Positive')\n",
    "plt.hist(x2, bins=10, color='b', label='True Negative')\n",
    "plt.gca().set(title='False Positive Rate (Z test)', ylabel='Frequency')\n",
    "plt.legend();"
   ]
  },
  {
   "cell_type": "markdown",
   "metadata": {},
   "source": [
    "# FPR на ограниченной выборке"
   ]
  },
  {
   "cell_type": "code",
   "execution_count": null,
   "metadata": {},
   "outputs": [],
   "source": [
    "df_x_drivers = df_x.DRIVER_RK.unique()\n",
    "df_y_drivers = df_y.DRIVER_RK.unique()"
   ]
  },
  {
   "cell_type": "code",
   "execution_count": null,
   "metadata": {},
   "outputs": [],
   "source": [
    "a_sample_drivers = np.random.choice(df_x_drivers, 1000, replace=False)\n",
    "b_sample_drivers = np.random.choice(df_y_drivers, 1000, replace=False)"
   ]
  },
  {
   "cell_type": "code",
   "execution_count": null,
   "metadata": {},
   "outputs": [],
   "source": [
    "df_x_sample = df_x[df_x['DRIVER_RK'].isin(a_sample_drivers)]\n",
    "df_y_sample = df_y[df_y['DRIVER_RK'].isin(b_sample_drivers)]"
   ]
  },
  {
   "cell_type": "code",
   "execution_count": null,
   "metadata": {},
   "outputs": [],
   "source": [
    "print(len(df_x_sample),len(df_y_sample))"
   ]
  },
  {
   "cell_type": "code",
   "execution_count": null,
   "metadata": {},
   "outputs": [],
   "source": [
    "stat_res_sampled = {\n",
    "    'aa': {'pvalue': []},\n",
    "    'fpr': {f'fpr_0.99': .0}\n",
    "}"
   ]
  },
  {
   "cell_type": "code",
   "execution_count": null,
   "metadata": {},
   "outputs": [],
   "source": [
    "for sim in tqdm(range(10000)):\n",
    "    x = df_x_sample['ACCEPT'].sample(100000, replace=False)\n",
    "    y = df_y_sample['ACCEPT'].sample(100000, replace=False)\n",
    "\n",
    "    a_s = x.sum()\n",
    "    a_f = len(x) - x.sum()\n",
    "    b_s = y.sum()\n",
    "    b_f = len(y) - y.sum()\n",
    "    successes, fails = [a_s, b_s], [a_f,b_f]\n",
    "\n",
    "    pvalue = chi2_contingency(np.array([fails, successes]))[1]\n",
    "    stat_res_sampled['aa']['pvalue'].append(pvalue)"
   ]
  },
  {
   "cell_type": "code",
   "execution_count": null,
   "metadata": {},
   "outputs": [],
   "source": [
    "stat_res_sampled['fpr']['fpr_0.99'] = compute_fpr(pvalues=stat_res['aa']['pvalue'])"
   ]
  },
  {
   "cell_type": "code",
   "execution_count": null,
   "metadata": {},
   "outputs": [],
   "source": [
    "stat_res_sampled['fpr']"
   ]
  },
  {
   "cell_type": "code",
   "execution_count": null,
   "metadata": {},
   "outputs": [],
   "source": []
  },
  {
   "cell_type": "code",
   "execution_count": null,
   "metadata": {},
   "outputs": [],
   "source": [
    "ar_daily = ar_suggest_data[['DT','EXP_GROUP','ACCEPT','SUGGEST']].groupby(['DT','EXP_GROUP']).sum().reset_index()\n",
    "ar_daily['ar'] = np.divide(ar_daily['ACCEPT'], ar_daily['SUGGEST'])"
   ]
  },
  {
   "cell_type": "code",
   "execution_count": null,
   "metadata": {},
   "outputs": [],
   "source": [
    "ar_daily = ar_daily[['DT','EXP_GROUP','ar']].pivot_table(index=['DT'],columns=['EXP_GROUP'])"
   ]
  },
  {
   "cell_type": "code",
   "execution_count": null,
   "metadata": {},
   "outputs": [],
   "source": [
    "#ar_daily.to_excel(r'ar_daily_aa.xlsx', sheet_name='daily_ar', index = True)"
   ]
  },
  {
   "cell_type": "code",
   "execution_count": null,
   "metadata": {},
   "outputs": [],
   "source": []
  },
  {
   "cell_type": "code",
   "execution_count": null,
   "metadata": {},
   "outputs": [],
   "source": []
  }
 ],
 "metadata": {
  "kernelspec": {
   "display_name": "Python 3",
   "language": "python",
   "name": "python3"
  },
  "language_info": {
   "codemirror_mode": {
    "name": "ipython",
    "version": 3
   },
   "file_extension": ".py",
   "mimetype": "text/x-python",
   "name": "python",
   "nbconvert_exporter": "python",
   "pygments_lexer": "ipython3",
   "version": "3.8.5"
  }
 },
 "nbformat": 4,
 "nbformat_minor": 4
}
